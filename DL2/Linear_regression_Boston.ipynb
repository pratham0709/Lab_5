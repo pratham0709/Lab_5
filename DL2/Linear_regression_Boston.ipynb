{
 "cells": [
  {
   "cell_type": "code",
   "execution_count": 1,
   "id": "36e90601",
   "metadata": {},
   "outputs": [],
   "source": [
    "import pandas as pd\n",
    "import matplotlib.pyplot as plt"
   ]
  },
  {
   "cell_type": "markdown",
   "id": "09c0d469",
   "metadata": {},
   "source": [
    "### Load Dataset"
   ]
  },
  {
   "cell_type": "code",
   "execution_count": 8,
   "id": "64638d93",
   "metadata": {},
   "outputs": [
    {
     "data": {
      "text/html": [
       "<div>\n",
       "<style scoped>\n",
       "    .dataframe tbody tr th:only-of-type {\n",
       "        vertical-align: middle;\n",
       "    }\n",
       "\n",
       "    .dataframe tbody tr th {\n",
       "        vertical-align: top;\n",
       "    }\n",
       "\n",
       "    .dataframe thead th {\n",
       "        text-align: right;\n",
       "    }\n",
       "</style>\n",
       "<table border=\"1\" class=\"dataframe\">\n",
       "  <thead>\n",
       "    <tr style=\"text-align: right;\">\n",
       "      <th></th>\n",
       "      <th>CRIM</th>\n",
       "      <th>ZN</th>\n",
       "      <th>INDUS</th>\n",
       "      <th>CHAS</th>\n",
       "      <th>NOX</th>\n",
       "      <th>RM</th>\n",
       "      <th>AGE</th>\n",
       "      <th>DIS</th>\n",
       "      <th>RAD</th>\n",
       "      <th>TAX</th>\n",
       "      <th>PTRATIO</th>\n",
       "      <th>B</th>\n",
       "      <th>LSTAT</th>\n",
       "      <th>MEDV</th>\n",
       "      <th>CAT. MEDV</th>\n",
       "      <th>Unnamed: 15</th>\n",
       "      <th>Unnamed: 16</th>\n",
       "    </tr>\n",
       "  </thead>\n",
       "  <tbody>\n",
       "    <tr>\n",
       "      <th>0</th>\n",
       "      <td>0.00632</td>\n",
       "      <td>18.0</td>\n",
       "      <td>2.31</td>\n",
       "      <td>0</td>\n",
       "      <td>0.538</td>\n",
       "      <td>6.575</td>\n",
       "      <td>65.2</td>\n",
       "      <td>4.0900</td>\n",
       "      <td>1</td>\n",
       "      <td>296</td>\n",
       "      <td>15.3</td>\n",
       "      <td>396.90</td>\n",
       "      <td>4.98</td>\n",
       "      <td>24.0</td>\n",
       "      <td>0</td>\n",
       "      <td>NaN</td>\n",
       "      <td>NaN</td>\n",
       "    </tr>\n",
       "    <tr>\n",
       "      <th>1</th>\n",
       "      <td>0.02731</td>\n",
       "      <td>0.0</td>\n",
       "      <td>7.07</td>\n",
       "      <td>0</td>\n",
       "      <td>0.469</td>\n",
       "      <td>6.421</td>\n",
       "      <td>78.9</td>\n",
       "      <td>4.9671</td>\n",
       "      <td>2</td>\n",
       "      <td>242</td>\n",
       "      <td>17.8</td>\n",
       "      <td>396.90</td>\n",
       "      <td>9.14</td>\n",
       "      <td>21.6</td>\n",
       "      <td>0</td>\n",
       "      <td>NaN</td>\n",
       "      <td>NaN</td>\n",
       "    </tr>\n",
       "    <tr>\n",
       "      <th>2</th>\n",
       "      <td>0.02729</td>\n",
       "      <td>0.0</td>\n",
       "      <td>7.07</td>\n",
       "      <td>0</td>\n",
       "      <td>0.469</td>\n",
       "      <td>7.185</td>\n",
       "      <td>61.1</td>\n",
       "      <td>4.9671</td>\n",
       "      <td>2</td>\n",
       "      <td>242</td>\n",
       "      <td>17.8</td>\n",
       "      <td>392.83</td>\n",
       "      <td>4.03</td>\n",
       "      <td>34.7</td>\n",
       "      <td>1</td>\n",
       "      <td>NaN</td>\n",
       "      <td>NaN</td>\n",
       "    </tr>\n",
       "    <tr>\n",
       "      <th>3</th>\n",
       "      <td>0.03237</td>\n",
       "      <td>0.0</td>\n",
       "      <td>2.18</td>\n",
       "      <td>0</td>\n",
       "      <td>0.458</td>\n",
       "      <td>6.998</td>\n",
       "      <td>45.8</td>\n",
       "      <td>6.0622</td>\n",
       "      <td>3</td>\n",
       "      <td>222</td>\n",
       "      <td>18.7</td>\n",
       "      <td>394.63</td>\n",
       "      <td>2.94</td>\n",
       "      <td>33.4</td>\n",
       "      <td>1</td>\n",
       "      <td>NaN</td>\n",
       "      <td>NaN</td>\n",
       "    </tr>\n",
       "    <tr>\n",
       "      <th>4</th>\n",
       "      <td>0.06905</td>\n",
       "      <td>0.0</td>\n",
       "      <td>2.18</td>\n",
       "      <td>0</td>\n",
       "      <td>0.458</td>\n",
       "      <td>7.147</td>\n",
       "      <td>54.2</td>\n",
       "      <td>6.0622</td>\n",
       "      <td>3</td>\n",
       "      <td>222</td>\n",
       "      <td>18.7</td>\n",
       "      <td>396.90</td>\n",
       "      <td>5.33</td>\n",
       "      <td>36.2</td>\n",
       "      <td>1</td>\n",
       "      <td>NaN</td>\n",
       "      <td>NaN</td>\n",
       "    </tr>\n",
       "    <tr>\n",
       "      <th>5</th>\n",
       "      <td>0.02985</td>\n",
       "      <td>0.0</td>\n",
       "      <td>2.18</td>\n",
       "      <td>0</td>\n",
       "      <td>0.458</td>\n",
       "      <td>6.430</td>\n",
       "      <td>58.7</td>\n",
       "      <td>6.0622</td>\n",
       "      <td>3</td>\n",
       "      <td>222</td>\n",
       "      <td>18.7</td>\n",
       "      <td>394.12</td>\n",
       "      <td>5.21</td>\n",
       "      <td>28.7</td>\n",
       "      <td>0</td>\n",
       "      <td>NaN</td>\n",
       "      <td>NaN</td>\n",
       "    </tr>\n",
       "    <tr>\n",
       "      <th>6</th>\n",
       "      <td>0.08829</td>\n",
       "      <td>12.5</td>\n",
       "      <td>7.87</td>\n",
       "      <td>0</td>\n",
       "      <td>0.524</td>\n",
       "      <td>6.012</td>\n",
       "      <td>66.6</td>\n",
       "      <td>5.5605</td>\n",
       "      <td>5</td>\n",
       "      <td>311</td>\n",
       "      <td>15.2</td>\n",
       "      <td>395.60</td>\n",
       "      <td>12.43</td>\n",
       "      <td>22.9</td>\n",
       "      <td>0</td>\n",
       "      <td>NaN</td>\n",
       "      <td>NaN</td>\n",
       "    </tr>\n",
       "    <tr>\n",
       "      <th>7</th>\n",
       "      <td>0.14455</td>\n",
       "      <td>12.5</td>\n",
       "      <td>7.87</td>\n",
       "      <td>0</td>\n",
       "      <td>0.524</td>\n",
       "      <td>6.172</td>\n",
       "      <td>96.1</td>\n",
       "      <td>5.9505</td>\n",
       "      <td>5</td>\n",
       "      <td>311</td>\n",
       "      <td>15.2</td>\n",
       "      <td>396.90</td>\n",
       "      <td>19.15</td>\n",
       "      <td>27.1</td>\n",
       "      <td>0</td>\n",
       "      <td>NaN</td>\n",
       "      <td>NaN</td>\n",
       "    </tr>\n",
       "    <tr>\n",
       "      <th>8</th>\n",
       "      <td>0.21124</td>\n",
       "      <td>12.5</td>\n",
       "      <td>7.87</td>\n",
       "      <td>0</td>\n",
       "      <td>0.524</td>\n",
       "      <td>5.631</td>\n",
       "      <td>100.0</td>\n",
       "      <td>6.0821</td>\n",
       "      <td>5</td>\n",
       "      <td>311</td>\n",
       "      <td>15.2</td>\n",
       "      <td>386.63</td>\n",
       "      <td>29.93</td>\n",
       "      <td>16.5</td>\n",
       "      <td>0</td>\n",
       "      <td>NaN</td>\n",
       "      <td>NaN</td>\n",
       "    </tr>\n",
       "    <tr>\n",
       "      <th>9</th>\n",
       "      <td>0.17004</td>\n",
       "      <td>12.5</td>\n",
       "      <td>7.87</td>\n",
       "      <td>0</td>\n",
       "      <td>0.524</td>\n",
       "      <td>6.004</td>\n",
       "      <td>85.9</td>\n",
       "      <td>6.5921</td>\n",
       "      <td>5</td>\n",
       "      <td>311</td>\n",
       "      <td>15.2</td>\n",
       "      <td>386.71</td>\n",
       "      <td>17.10</td>\n",
       "      <td>18.9</td>\n",
       "      <td>0</td>\n",
       "      <td>NaN</td>\n",
       "      <td>NaN</td>\n",
       "    </tr>\n",
       "  </tbody>\n",
       "</table>\n",
       "</div>"
      ],
      "text/plain": [
       "      CRIM    ZN  INDUS  CHAS    NOX     RM    AGE     DIS  RAD  TAX  PTRATIO  \\\n",
       "0  0.00632  18.0   2.31     0  0.538  6.575   65.2  4.0900    1  296     15.3   \n",
       "1  0.02731   0.0   7.07     0  0.469  6.421   78.9  4.9671    2  242     17.8   \n",
       "2  0.02729   0.0   7.07     0  0.469  7.185   61.1  4.9671    2  242     17.8   \n",
       "3  0.03237   0.0   2.18     0  0.458  6.998   45.8  6.0622    3  222     18.7   \n",
       "4  0.06905   0.0   2.18     0  0.458  7.147   54.2  6.0622    3  222     18.7   \n",
       "5  0.02985   0.0   2.18     0  0.458  6.430   58.7  6.0622    3  222     18.7   \n",
       "6  0.08829  12.5   7.87     0  0.524  6.012   66.6  5.5605    5  311     15.2   \n",
       "7  0.14455  12.5   7.87     0  0.524  6.172   96.1  5.9505    5  311     15.2   \n",
       "8  0.21124  12.5   7.87     0  0.524  5.631  100.0  6.0821    5  311     15.2   \n",
       "9  0.17004  12.5   7.87     0  0.524  6.004   85.9  6.5921    5  311     15.2   \n",
       "\n",
       "        B  LSTAT  MEDV  CAT. MEDV  Unnamed: 15  Unnamed: 16  \n",
       "0  396.90   4.98  24.0          0          NaN          NaN  \n",
       "1  396.90   9.14  21.6          0          NaN          NaN  \n",
       "2  392.83   4.03  34.7          1          NaN          NaN  \n",
       "3  394.63   2.94  33.4          1          NaN          NaN  \n",
       "4  396.90   5.33  36.2          1          NaN          NaN  \n",
       "5  394.12   5.21  28.7          0          NaN          NaN  \n",
       "6  395.60  12.43  22.9          0          NaN          NaN  \n",
       "7  396.90  19.15  27.1          0          NaN          NaN  \n",
       "8  386.63  29.93  16.5          0          NaN          NaN  \n",
       "9  386.71  17.10  18.9          0          NaN          NaN  "
      ]
     },
     "execution_count": 8,
     "metadata": {},
     "output_type": "execute_result"
    }
   ],
   "source": [
    "df = pd.read_csv(\"boston.csv\")\n",
    "df.head(10)"
   ]
  },
  {
   "cell_type": "code",
   "execution_count": 9,
   "id": "55426a1b",
   "metadata": {},
   "outputs": [],
   "source": [
    "df.drop(columns=['Unnamed: 15','Unnamed: 16'],inplace=True)"
   ]
  },
  {
   "cell_type": "code",
   "execution_count": 10,
   "id": "dade5278",
   "metadata": {},
   "outputs": [],
   "source": [
    "df.drop(columns=['CAT. MEDV'],inplace=True)"
   ]
  },
  {
   "cell_type": "markdown",
   "id": "17d566fe",
   "metadata": {},
   "source": [
    "#### Checking for null values"
   ]
  },
  {
   "cell_type": "code",
   "execution_count": 11,
   "id": "e4792737",
   "metadata": {},
   "outputs": [
    {
     "data": {
      "text/plain": [
       "CRIM       0\n",
       "ZN         0\n",
       "INDUS      0\n",
       "CHAS       0\n",
       "NOX        0\n",
       "RM         0\n",
       "AGE        0\n",
       "DIS        0\n",
       "RAD        0\n",
       "TAX        0\n",
       "PTRATIO    0\n",
       "B          0\n",
       "LSTAT      0\n",
       "MEDV       0\n",
       "dtype: int64"
      ]
     },
     "execution_count": 11,
     "metadata": {},
     "output_type": "execute_result"
    }
   ],
   "source": [
    "df.isnull().sum()"
   ]
  },
  {
   "cell_type": "code",
   "execution_count": 12,
   "id": "036b309e",
   "metadata": {},
   "outputs": [
    {
     "name": "stdout",
     "output_type": "stream",
     "text": [
      "<class 'pandas.core.frame.DataFrame'>\n",
      "RangeIndex: 506 entries, 0 to 505\n",
      "Data columns (total 14 columns):\n",
      " #   Column   Non-Null Count  Dtype  \n",
      "---  ------   --------------  -----  \n",
      " 0   CRIM     506 non-null    float64\n",
      " 1   ZN       506 non-null    float64\n",
      " 2   INDUS    506 non-null    float64\n",
      " 3   CHAS     506 non-null    int64  \n",
      " 4   NOX      506 non-null    float64\n",
      " 5   RM       506 non-null    float64\n",
      " 6   AGE      506 non-null    float64\n",
      " 7   DIS      506 non-null    float64\n",
      " 8   RAD      506 non-null    int64  \n",
      " 9   TAX      506 non-null    int64  \n",
      " 10  PTRATIO  506 non-null    float64\n",
      " 11  B        506 non-null    float64\n",
      " 12  LSTAT    506 non-null    float64\n",
      " 13  MEDV     506 non-null    float64\n",
      "dtypes: float64(11), int64(3)\n",
      "memory usage: 55.5 KB\n"
     ]
    }
   ],
   "source": [
    "df.info()"
   ]
  },
  {
   "cell_type": "code",
   "execution_count": 13,
   "id": "851ae670",
   "metadata": {},
   "outputs": [
    {
     "data": {
      "text/html": [
       "<div>\n",
       "<style scoped>\n",
       "    .dataframe tbody tr th:only-of-type {\n",
       "        vertical-align: middle;\n",
       "    }\n",
       "\n",
       "    .dataframe tbody tr th {\n",
       "        vertical-align: top;\n",
       "    }\n",
       "\n",
       "    .dataframe thead th {\n",
       "        text-align: right;\n",
       "    }\n",
       "</style>\n",
       "<table border=\"1\" class=\"dataframe\">\n",
       "  <thead>\n",
       "    <tr style=\"text-align: right;\">\n",
       "      <th></th>\n",
       "      <th>CRIM</th>\n",
       "      <th>ZN</th>\n",
       "      <th>INDUS</th>\n",
       "      <th>CHAS</th>\n",
       "      <th>NOX</th>\n",
       "      <th>RM</th>\n",
       "      <th>AGE</th>\n",
       "      <th>DIS</th>\n",
       "      <th>RAD</th>\n",
       "      <th>TAX</th>\n",
       "      <th>PTRATIO</th>\n",
       "      <th>B</th>\n",
       "      <th>LSTAT</th>\n",
       "      <th>MEDV</th>\n",
       "    </tr>\n",
       "  </thead>\n",
       "  <tbody>\n",
       "    <tr>\n",
       "      <th>count</th>\n",
       "      <td>506.000000</td>\n",
       "      <td>506.000000</td>\n",
       "      <td>506.000000</td>\n",
       "      <td>506.000000</td>\n",
       "      <td>506.000000</td>\n",
       "      <td>506.000000</td>\n",
       "      <td>506.000000</td>\n",
       "      <td>506.000000</td>\n",
       "      <td>506.000000</td>\n",
       "      <td>506.000000</td>\n",
       "      <td>506.000000</td>\n",
       "      <td>506.000000</td>\n",
       "      <td>506.000000</td>\n",
       "      <td>506.000000</td>\n",
       "    </tr>\n",
       "    <tr>\n",
       "      <th>mean</th>\n",
       "      <td>3.613524</td>\n",
       "      <td>11.363636</td>\n",
       "      <td>11.136779</td>\n",
       "      <td>0.069170</td>\n",
       "      <td>0.554695</td>\n",
       "      <td>6.284634</td>\n",
       "      <td>68.574901</td>\n",
       "      <td>3.795043</td>\n",
       "      <td>9.549407</td>\n",
       "      <td>408.237154</td>\n",
       "      <td>18.455534</td>\n",
       "      <td>356.674032</td>\n",
       "      <td>12.653063</td>\n",
       "      <td>22.532806</td>\n",
       "    </tr>\n",
       "    <tr>\n",
       "      <th>std</th>\n",
       "      <td>8.601545</td>\n",
       "      <td>23.322453</td>\n",
       "      <td>6.860353</td>\n",
       "      <td>0.253994</td>\n",
       "      <td>0.115878</td>\n",
       "      <td>0.702617</td>\n",
       "      <td>28.148861</td>\n",
       "      <td>2.105710</td>\n",
       "      <td>8.707259</td>\n",
       "      <td>168.537116</td>\n",
       "      <td>2.164946</td>\n",
       "      <td>91.294864</td>\n",
       "      <td>7.141062</td>\n",
       "      <td>9.197104</td>\n",
       "    </tr>\n",
       "    <tr>\n",
       "      <th>min</th>\n",
       "      <td>0.006320</td>\n",
       "      <td>0.000000</td>\n",
       "      <td>0.460000</td>\n",
       "      <td>0.000000</td>\n",
       "      <td>0.385000</td>\n",
       "      <td>3.561000</td>\n",
       "      <td>2.900000</td>\n",
       "      <td>1.129600</td>\n",
       "      <td>1.000000</td>\n",
       "      <td>187.000000</td>\n",
       "      <td>12.600000</td>\n",
       "      <td>0.320000</td>\n",
       "      <td>1.730000</td>\n",
       "      <td>5.000000</td>\n",
       "    </tr>\n",
       "    <tr>\n",
       "      <th>25%</th>\n",
       "      <td>0.082045</td>\n",
       "      <td>0.000000</td>\n",
       "      <td>5.190000</td>\n",
       "      <td>0.000000</td>\n",
       "      <td>0.449000</td>\n",
       "      <td>5.885500</td>\n",
       "      <td>45.025000</td>\n",
       "      <td>2.100175</td>\n",
       "      <td>4.000000</td>\n",
       "      <td>279.000000</td>\n",
       "      <td>17.400000</td>\n",
       "      <td>375.377500</td>\n",
       "      <td>6.950000</td>\n",
       "      <td>17.025000</td>\n",
       "    </tr>\n",
       "    <tr>\n",
       "      <th>50%</th>\n",
       "      <td>0.256510</td>\n",
       "      <td>0.000000</td>\n",
       "      <td>9.690000</td>\n",
       "      <td>0.000000</td>\n",
       "      <td>0.538000</td>\n",
       "      <td>6.208500</td>\n",
       "      <td>77.500000</td>\n",
       "      <td>3.207450</td>\n",
       "      <td>5.000000</td>\n",
       "      <td>330.000000</td>\n",
       "      <td>19.050000</td>\n",
       "      <td>391.440000</td>\n",
       "      <td>11.360000</td>\n",
       "      <td>21.200000</td>\n",
       "    </tr>\n",
       "    <tr>\n",
       "      <th>75%</th>\n",
       "      <td>3.677083</td>\n",
       "      <td>12.500000</td>\n",
       "      <td>18.100000</td>\n",
       "      <td>0.000000</td>\n",
       "      <td>0.624000</td>\n",
       "      <td>6.623500</td>\n",
       "      <td>94.075000</td>\n",
       "      <td>5.188425</td>\n",
       "      <td>24.000000</td>\n",
       "      <td>666.000000</td>\n",
       "      <td>20.200000</td>\n",
       "      <td>396.225000</td>\n",
       "      <td>16.955000</td>\n",
       "      <td>25.000000</td>\n",
       "    </tr>\n",
       "    <tr>\n",
       "      <th>max</th>\n",
       "      <td>88.976200</td>\n",
       "      <td>100.000000</td>\n",
       "      <td>27.740000</td>\n",
       "      <td>1.000000</td>\n",
       "      <td>0.871000</td>\n",
       "      <td>8.780000</td>\n",
       "      <td>100.000000</td>\n",
       "      <td>12.126500</td>\n",
       "      <td>24.000000</td>\n",
       "      <td>711.000000</td>\n",
       "      <td>22.000000</td>\n",
       "      <td>396.900000</td>\n",
       "      <td>37.970000</td>\n",
       "      <td>50.000000</td>\n",
       "    </tr>\n",
       "  </tbody>\n",
       "</table>\n",
       "</div>"
      ],
      "text/plain": [
       "             CRIM          ZN       INDUS        CHAS         NOX          RM  \\\n",
       "count  506.000000  506.000000  506.000000  506.000000  506.000000  506.000000   \n",
       "mean     3.613524   11.363636   11.136779    0.069170    0.554695    6.284634   \n",
       "std      8.601545   23.322453    6.860353    0.253994    0.115878    0.702617   \n",
       "min      0.006320    0.000000    0.460000    0.000000    0.385000    3.561000   \n",
       "25%      0.082045    0.000000    5.190000    0.000000    0.449000    5.885500   \n",
       "50%      0.256510    0.000000    9.690000    0.000000    0.538000    6.208500   \n",
       "75%      3.677083   12.500000   18.100000    0.000000    0.624000    6.623500   \n",
       "max     88.976200  100.000000   27.740000    1.000000    0.871000    8.780000   \n",
       "\n",
       "              AGE         DIS         RAD         TAX     PTRATIO           B  \\\n",
       "count  506.000000  506.000000  506.000000  506.000000  506.000000  506.000000   \n",
       "mean    68.574901    3.795043    9.549407  408.237154   18.455534  356.674032   \n",
       "std     28.148861    2.105710    8.707259  168.537116    2.164946   91.294864   \n",
       "min      2.900000    1.129600    1.000000  187.000000   12.600000    0.320000   \n",
       "25%     45.025000    2.100175    4.000000  279.000000   17.400000  375.377500   \n",
       "50%     77.500000    3.207450    5.000000  330.000000   19.050000  391.440000   \n",
       "75%     94.075000    5.188425   24.000000  666.000000   20.200000  396.225000   \n",
       "max    100.000000   12.126500   24.000000  711.000000   22.000000  396.900000   \n",
       "\n",
       "            LSTAT        MEDV  \n",
       "count  506.000000  506.000000  \n",
       "mean    12.653063   22.532806  \n",
       "std      7.141062    9.197104  \n",
       "min      1.730000    5.000000  \n",
       "25%      6.950000   17.025000  \n",
       "50%     11.360000   21.200000  \n",
       "75%     16.955000   25.000000  \n",
       "max     37.970000   50.000000  "
      ]
     },
     "execution_count": 13,
     "metadata": {},
     "output_type": "execute_result"
    }
   ],
   "source": [
    "df.describe()"
   ]
  },
  {
   "cell_type": "markdown",
   "id": "44bc6735",
   "metadata": {},
   "source": [
    "#### Checking correlation with target variable MEDV"
   ]
  },
  {
   "cell_type": "code",
   "execution_count": 14,
   "id": "64ef4b15",
   "metadata": {},
   "outputs": [
    {
     "data": {
      "text/plain": [
       "LSTAT     -0.737663\n",
       "PTRATIO   -0.507787\n",
       "INDUS     -0.483725\n",
       "TAX       -0.468536\n",
       "NOX       -0.427321\n",
       "CRIM      -0.388305\n",
       "RAD       -0.381626\n",
       "AGE       -0.376955\n",
       "CHAS       0.175260\n",
       "DIS        0.249929\n",
       "B          0.333461\n",
       "ZN         0.360445\n",
       "RM         0.695360\n",
       "MEDV       1.000000\n",
       "Name: MEDV, dtype: float64"
      ]
     },
     "execution_count": 14,
     "metadata": {},
     "output_type": "execute_result"
    }
   ],
   "source": [
    "df.corr()['MEDV'].sort_values()"
   ]
  },
  {
   "cell_type": "code",
   "execution_count": 15,
   "id": "7168e688",
   "metadata": {},
   "outputs": [
    {
     "data": {
      "text/plain": [
       "((506, 3), (506,))"
      ]
     },
     "execution_count": 15,
     "metadata": {},
     "output_type": "execute_result"
    }
   ],
   "source": [
    "X = df.loc[:,['LSTAT','PTRATIO','RM']]\n",
    "Y = df.loc[:,\"MEDV\"]\n",
    "X.shape,Y.shape"
   ]
  },
  {
   "cell_type": "markdown",
   "id": "08648c29",
   "metadata": {},
   "source": [
    "### Preparing training and testing data set"
   ]
  },
  {
   "cell_type": "code",
   "execution_count": 16,
   "id": "cecea370",
   "metadata": {},
   "outputs": [],
   "source": [
    "from sklearn.model_selection import train_test_split\n",
    "x_train,x_test,y_train,y_test = train_test_split(X,Y,test_size=0.25,random_state=10)"
   ]
  },
  {
   "cell_type": "markdown",
   "id": "7eabb9f2",
   "metadata": {},
   "source": [
    "### Normalizing training and testing dataset"
   ]
  },
  {
   "cell_type": "code",
   "execution_count": 17,
   "id": "926fe0ce",
   "metadata": {},
   "outputs": [],
   "source": [
    "from sklearn.preprocessing import StandardScaler"
   ]
  },
  {
   "cell_type": "code",
   "execution_count": 18,
   "id": "1e49c4a2",
   "metadata": {},
   "outputs": [],
   "source": [
    "scaler = StandardScaler()"
   ]
  },
  {
   "cell_type": "code",
   "execution_count": 19,
   "id": "b99b26de",
   "metadata": {},
   "outputs": [
    {
     "data": {
      "text/html": [
       "<style>#sk-container-id-1 {color: black;background-color: white;}#sk-container-id-1 pre{padding: 0;}#sk-container-id-1 div.sk-toggleable {background-color: white;}#sk-container-id-1 label.sk-toggleable__label {cursor: pointer;display: block;width: 100%;margin-bottom: 0;padding: 0.3em;box-sizing: border-box;text-align: center;}#sk-container-id-1 label.sk-toggleable__label-arrow:before {content: \"▸\";float: left;margin-right: 0.25em;color: #696969;}#sk-container-id-1 label.sk-toggleable__label-arrow:hover:before {color: black;}#sk-container-id-1 div.sk-estimator:hover label.sk-toggleable__label-arrow:before {color: black;}#sk-container-id-1 div.sk-toggleable__content {max-height: 0;max-width: 0;overflow: hidden;text-align: left;background-color: #f0f8ff;}#sk-container-id-1 div.sk-toggleable__content pre {margin: 0.2em;color: black;border-radius: 0.25em;background-color: #f0f8ff;}#sk-container-id-1 input.sk-toggleable__control:checked~div.sk-toggleable__content {max-height: 200px;max-width: 100%;overflow: auto;}#sk-container-id-1 input.sk-toggleable__control:checked~label.sk-toggleable__label-arrow:before {content: \"▾\";}#sk-container-id-1 div.sk-estimator input.sk-toggleable__control:checked~label.sk-toggleable__label {background-color: #d4ebff;}#sk-container-id-1 div.sk-label input.sk-toggleable__control:checked~label.sk-toggleable__label {background-color: #d4ebff;}#sk-container-id-1 input.sk-hidden--visually {border: 0;clip: rect(1px 1px 1px 1px);clip: rect(1px, 1px, 1px, 1px);height: 1px;margin: -1px;overflow: hidden;padding: 0;position: absolute;width: 1px;}#sk-container-id-1 div.sk-estimator {font-family: monospace;background-color: #f0f8ff;border: 1px dotted black;border-radius: 0.25em;box-sizing: border-box;margin-bottom: 0.5em;}#sk-container-id-1 div.sk-estimator:hover {background-color: #d4ebff;}#sk-container-id-1 div.sk-parallel-item::after {content: \"\";width: 100%;border-bottom: 1px solid gray;flex-grow: 1;}#sk-container-id-1 div.sk-label:hover label.sk-toggleable__label {background-color: #d4ebff;}#sk-container-id-1 div.sk-serial::before {content: \"\";position: absolute;border-left: 1px solid gray;box-sizing: border-box;top: 0;bottom: 0;left: 50%;z-index: 0;}#sk-container-id-1 div.sk-serial {display: flex;flex-direction: column;align-items: center;background-color: white;padding-right: 0.2em;padding-left: 0.2em;position: relative;}#sk-container-id-1 div.sk-item {position: relative;z-index: 1;}#sk-container-id-1 div.sk-parallel {display: flex;align-items: stretch;justify-content: center;background-color: white;position: relative;}#sk-container-id-1 div.sk-item::before, #sk-container-id-1 div.sk-parallel-item::before {content: \"\";position: absolute;border-left: 1px solid gray;box-sizing: border-box;top: 0;bottom: 0;left: 50%;z-index: -1;}#sk-container-id-1 div.sk-parallel-item {display: flex;flex-direction: column;z-index: 1;position: relative;background-color: white;}#sk-container-id-1 div.sk-parallel-item:first-child::after {align-self: flex-end;width: 50%;}#sk-container-id-1 div.sk-parallel-item:last-child::after {align-self: flex-start;width: 50%;}#sk-container-id-1 div.sk-parallel-item:only-child::after {width: 0;}#sk-container-id-1 div.sk-dashed-wrapped {border: 1px dashed gray;margin: 0 0.4em 0.5em 0.4em;box-sizing: border-box;padding-bottom: 0.4em;background-color: white;}#sk-container-id-1 div.sk-label label {font-family: monospace;font-weight: bold;display: inline-block;line-height: 1.2em;}#sk-container-id-1 div.sk-label-container {text-align: center;}#sk-container-id-1 div.sk-container {/* jupyter's `normalize.less` sets `[hidden] { display: none; }` but bootstrap.min.css set `[hidden] { display: none !important; }` so we also need the `!important` here to be able to override the default hidden behavior on the sphinx rendered scikit-learn.org. See: https://github.com/scikit-learn/scikit-learn/issues/21755 */display: inline-block !important;position: relative;}#sk-container-id-1 div.sk-text-repr-fallback {display: none;}</style><div id=\"sk-container-id-1\" class=\"sk-top-container\"><div class=\"sk-text-repr-fallback\"><pre>StandardScaler()</pre><b>In a Jupyter environment, please rerun this cell to show the HTML representation or trust the notebook. <br />On GitHub, the HTML representation is unable to render, please try loading this page with nbviewer.org.</b></div><div class=\"sk-container\" hidden><div class=\"sk-item\"><div class=\"sk-estimator sk-toggleable\"><input class=\"sk-toggleable__control sk-hidden--visually\" id=\"sk-estimator-id-1\" type=\"checkbox\" checked><label for=\"sk-estimator-id-1\" class=\"sk-toggleable__label sk-toggleable__label-arrow\">StandardScaler</label><div class=\"sk-toggleable__content\"><pre>StandardScaler()</pre></div></div></div></div></div>"
      ],
      "text/plain": [
       "StandardScaler()"
      ]
     },
     "execution_count": 19,
     "metadata": {},
     "output_type": "execute_result"
    }
   ],
   "source": [
    "scaler.fit(x_train)"
   ]
  },
  {
   "cell_type": "code",
   "execution_count": 20,
   "id": "eece8526",
   "metadata": {},
   "outputs": [],
   "source": [
    "x_train = scaler.transform(x_train)\n",
    "x_test = scaler.transform(x_test)"
   ]
  },
  {
   "cell_type": "markdown",
   "id": "a1ed18cc",
   "metadata": {},
   "source": [
    "### Preparing model"
   ]
  },
  {
   "cell_type": "code",
   "execution_count": 21,
   "id": "1243c6f8",
   "metadata": {},
   "outputs": [
    {
     "ename": "ModuleNotFoundError",
     "evalue": "No module named 'keras'",
     "output_type": "error",
     "traceback": [
      "\u001b[1;31m---------------------------------------------------------------------------\u001b[0m",
      "\u001b[1;31mModuleNotFoundError\u001b[0m                       Traceback (most recent call last)",
      "Cell \u001b[1;32mIn[21], line 1\u001b[0m\n\u001b[1;32m----> 1\u001b[0m \u001b[38;5;28;01mfrom\u001b[39;00m \u001b[38;5;21;01mkeras\u001b[39;00m\u001b[38;5;21;01m.\u001b[39;00m\u001b[38;5;21;01mmodels\u001b[39;00m \u001b[38;5;28;01mimport\u001b[39;00m Sequential\n\u001b[0;32m      2\u001b[0m \u001b[38;5;28;01mfrom\u001b[39;00m \u001b[38;5;21;01mkeras\u001b[39;00m\u001b[38;5;21;01m.\u001b[39;00m\u001b[38;5;21;01mlayers\u001b[39;00m \u001b[38;5;28;01mimport\u001b[39;00m Dense\n",
      "\u001b[1;31mModuleNotFoundError\u001b[0m: No module named 'keras'"
     ]
    }
   ],
   "source": [
    "from keras.models import Sequential\n",
    "from keras.layers import Dense"
   ]
  },
  {
   "cell_type": "code",
   "execution_count": 22,
   "id": "e7dad931",
   "metadata": {},
   "outputs": [
    {
     "ename": "NameError",
     "evalue": "name 'Sequential' is not defined",
     "output_type": "error",
     "traceback": [
      "\u001b[1;31m---------------------------------------------------------------------------\u001b[0m",
      "\u001b[1;31mNameError\u001b[0m                                 Traceback (most recent call last)",
      "Cell \u001b[1;32mIn[22], line 1\u001b[0m\n\u001b[1;32m----> 1\u001b[0m model \u001b[38;5;241m=\u001b[39m Sequential()\n",
      "\u001b[1;31mNameError\u001b[0m: name 'Sequential' is not defined"
     ]
    }
   ],
   "source": [
    "model = Sequential()"
   ]
  },
  {
   "cell_type": "code",
   "execution_count": 37,
   "id": "0baf27a9",
   "metadata": {},
   "outputs": [
    {
     "name": "stdout",
     "output_type": "stream",
     "text": [
      "Model: \"sequential_1\"\n",
      "_________________________________________________________________\n",
      " Layer (type)                Output Shape              Param #   \n",
      "=================================================================\n",
      " input (Dense)               (None, 128)               512       \n",
      "                                                                 \n",
      " layer_1 (Dense)             (None, 64)                8256      \n",
      "                                                                 \n",
      " output (Dense)              (None, 1)                 65        \n",
      "                                                                 \n",
      "=================================================================\n",
      "Total params: 8,833\n",
      "Trainable params: 8,833\n",
      "Non-trainable params: 0\n",
      "_________________________________________________________________\n"
     ]
    }
   ],
   "source": [
    "model.add(Dense(128,input_shape=(3,),activation='relu',name='input'))\n",
    "model.add(Dense(64,activation='relu',name='layer_1'))\n",
    "model.add(Dense(1,activation='linear',name='output'))\n",
    "model.compile(optimizer='adam', loss='mse', metrics=['mae'])\n",
    "model.summary()"
   ]
  },
  {
   "cell_type": "code",
   "execution_count": 38,
   "id": "4b51358b",
   "metadata": {},
   "outputs": [
    {
     "name": "stderr",
     "output_type": "stream",
     "text": [
      "/home/pratik/.local/lib/python3.8/site-packages/keras/engine/data_adapter.py:1699: FutureWarning: The behavior of `series[i:j]` with an integer-dtype index is deprecated. In a future version, this will be treated as *label-based* indexing, consistent with e.g. `series[i]` lookups. To retain the old behavior, use `series.iloc[i:j]`. To get the future behavior, use `series.loc[i:j]`.\n",
      "  return t[start:end]\n"
     ]
    },
    {
     "name": "stdout",
     "output_type": "stream",
     "text": [
      "Epoch 1/100\n",
      "12/12 [==============================] - 1s 16ms/step - loss: 521.6520 - mae: 21.1973 - val_loss: 684.2971 - val_mae: 23.4446\n",
      "Epoch 2/100\n",
      "12/12 [==============================] - 0s 3ms/step - loss: 480.6119 - mae: 20.2731 - val_loss: 630.4888 - val_mae: 22.2464\n",
      "Epoch 3/100\n",
      "12/12 [==============================] - 0s 3ms/step - loss: 423.7050 - mae: 18.9328 - val_loss: 557.4312 - val_mae: 20.5203\n",
      "Epoch 4/100\n",
      "12/12 [==============================] - 0s 3ms/step - loss: 347.1570 - mae: 16.9609 - val_loss: 464.9811 - val_mae: 18.3199\n",
      "Epoch 5/100\n",
      "12/12 [==============================] - 0s 3ms/step - loss: 251.9777 - mae: 14.3374 - val_loss: 361.5852 - val_mae: 15.6702\n",
      "Epoch 6/100\n",
      "12/12 [==============================] - 0s 3ms/step - loss: 158.9359 - mae: 11.2933 - val_loss: 259.4221 - val_mae: 12.6659\n",
      "Epoch 7/100\n",
      "12/12 [==============================] - 0s 3ms/step - loss: 85.3764 - mae: 8.0840 - val_loss: 184.6476 - val_mae: 10.3077\n",
      "Epoch 8/100\n",
      "12/12 [==============================] - 0s 3ms/step - loss: 51.1009 - mae: 5.8868 - val_loss: 143.0784 - val_mae: 8.6210\n",
      "Epoch 9/100\n",
      "12/12 [==============================] - 0s 3ms/step - loss: 41.0831 - mae: 5.0207 - val_loss: 122.0487 - val_mae: 7.6780\n",
      "Epoch 10/100\n",
      "12/12 [==============================] - 0s 3ms/step - loss: 34.8150 - mae: 4.4855 - val_loss: 109.6800 - val_mae: 7.2366\n",
      "Epoch 11/100\n",
      "12/12 [==============================] - 0s 3ms/step - loss: 29.9512 - mae: 4.0640 - val_loss: 102.8176 - val_mae: 7.0559\n",
      "Epoch 12/100\n",
      "12/12 [==============================] - 0s 3ms/step - loss: 26.9342 - mae: 3.8241 - val_loss: 98.0677 - val_mae: 6.8996\n",
      "Epoch 13/100\n",
      "12/12 [==============================] - 0s 3ms/step - loss: 24.9706 - mae: 3.6743 - val_loss: 93.2265 - val_mae: 6.7188\n",
      "Epoch 14/100\n",
      "12/12 [==============================] - 0s 3ms/step - loss: 23.6977 - mae: 3.5606 - val_loss: 91.2786 - val_mae: 6.6632\n",
      "Epoch 15/100\n",
      "12/12 [==============================] - 0s 3ms/step - loss: 22.7392 - mae: 3.4870 - val_loss: 89.9420 - val_mae: 6.5950\n",
      "Epoch 16/100\n",
      "12/12 [==============================] - 0s 3ms/step - loss: 21.9554 - mae: 3.4222 - val_loss: 87.4618 - val_mae: 6.5106\n",
      "Epoch 17/100\n",
      "12/12 [==============================] - 0s 3ms/step - loss: 21.3945 - mae: 3.3762 - val_loss: 86.6438 - val_mae: 6.4625\n",
      "Epoch 18/100\n",
      "12/12 [==============================] - 0s 3ms/step - loss: 20.7621 - mae: 3.3364 - val_loss: 86.2997 - val_mae: 6.4570\n",
      "Epoch 19/100\n",
      "12/12 [==============================] - 0s 3ms/step - loss: 20.3429 - mae: 3.3059 - val_loss: 87.6115 - val_mae: 6.5001\n",
      "Epoch 20/100\n",
      "12/12 [==============================] - 0s 3ms/step - loss: 19.7910 - mae: 3.2573 - val_loss: 86.8414 - val_mae: 6.4395\n",
      "Epoch 21/100\n",
      "12/12 [==============================] - 0s 3ms/step - loss: 19.3040 - mae: 3.2172 - val_loss: 85.3897 - val_mae: 6.3410\n",
      "Epoch 22/100\n",
      "12/12 [==============================] - 0s 3ms/step - loss: 18.9326 - mae: 3.1857 - val_loss: 83.8950 - val_mae: 6.2748\n",
      "Epoch 23/100\n",
      "12/12 [==============================] - 0s 3ms/step - loss: 18.4641 - mae: 3.1427 - val_loss: 85.9416 - val_mae: 6.2838\n",
      "Epoch 24/100\n",
      "12/12 [==============================] - 0s 3ms/step - loss: 17.9731 - mae: 3.0871 - val_loss: 85.2962 - val_mae: 6.2192\n",
      "Epoch 25/100\n",
      "12/12 [==============================] - 0s 3ms/step - loss: 17.5960 - mae: 3.0524 - val_loss: 84.0756 - val_mae: 6.1301\n",
      "Epoch 26/100\n",
      "12/12 [==============================] - 0s 3ms/step - loss: 17.2496 - mae: 3.0313 - val_loss: 83.8474 - val_mae: 6.0809\n",
      "Epoch 27/100\n",
      "12/12 [==============================] - 0s 3ms/step - loss: 16.8987 - mae: 3.0019 - val_loss: 82.9085 - val_mae: 6.0096\n",
      "Epoch 28/100\n",
      "12/12 [==============================] - 0s 3ms/step - loss: 16.6120 - mae: 2.9855 - val_loss: 82.4742 - val_mae: 5.9599\n",
      "Epoch 29/100\n",
      "12/12 [==============================] - 0s 3ms/step - loss: 16.3804 - mae: 2.9552 - val_loss: 84.0461 - val_mae: 5.9848\n",
      "Epoch 30/100\n",
      "12/12 [==============================] - 0s 4ms/step - loss: 16.0876 - mae: 2.9228 - val_loss: 82.8573 - val_mae: 5.8955\n",
      "Epoch 31/100\n",
      "12/12 [==============================] - 0s 3ms/step - loss: 15.8775 - mae: 2.9189 - val_loss: 82.3173 - val_mae: 5.8456\n",
      "Epoch 32/100\n",
      "12/12 [==============================] - 0s 3ms/step - loss: 15.7003 - mae: 2.9055 - val_loss: 82.2009 - val_mae: 5.8318\n",
      "Epoch 33/100\n",
      "12/12 [==============================] - 0s 3ms/step - loss: 15.5040 - mae: 2.8817 - val_loss: 81.1925 - val_mae: 5.7864\n",
      "Epoch 34/100\n",
      "12/12 [==============================] - 0s 3ms/step - loss: 15.2819 - mae: 2.8577 - val_loss: 82.7803 - val_mae: 5.8049\n",
      "Epoch 35/100\n",
      "12/12 [==============================] - 0s 3ms/step - loss: 15.1625 - mae: 2.8552 - val_loss: 82.5307 - val_mae: 5.7775\n",
      "Epoch 36/100\n",
      "12/12 [==============================] - 0s 3ms/step - loss: 14.9914 - mae: 2.8294 - val_loss: 82.5536 - val_mae: 5.7522\n",
      "Epoch 37/100\n",
      "12/12 [==============================] - 0s 3ms/step - loss: 14.7915 - mae: 2.8238 - val_loss: 81.7447 - val_mae: 5.7054\n",
      "Epoch 38/100\n",
      "12/12 [==============================] - 0s 3ms/step - loss: 14.6339 - mae: 2.8152 - val_loss: 80.9904 - val_mae: 5.6606\n",
      "Epoch 39/100\n",
      "12/12 [==============================] - 0s 3ms/step - loss: 14.5984 - mae: 2.7850 - val_loss: 83.0082 - val_mae: 5.7130\n",
      "Epoch 40/100\n",
      "12/12 [==============================] - 0s 3ms/step - loss: 14.4250 - mae: 2.7908 - val_loss: 79.6669 - val_mae: 5.6064\n",
      "Epoch 41/100\n",
      "12/12 [==============================] - 0s 3ms/step - loss: 14.5862 - mae: 2.8150 - val_loss: 84.1153 - val_mae: 5.7513\n",
      "Epoch 42/100\n",
      "12/12 [==============================] - 0s 3ms/step - loss: 14.1320 - mae: 2.7555 - val_loss: 81.3843 - val_mae: 5.6236\n",
      "Epoch 43/100\n",
      "12/12 [==============================] - 0s 3ms/step - loss: 14.0879 - mae: 2.7372 - val_loss: 79.7218 - val_mae: 5.5161\n",
      "Epoch 44/100\n",
      "12/12 [==============================] - 0s 3ms/step - loss: 13.9245 - mae: 2.7283 - val_loss: 82.5691 - val_mae: 5.5710\n",
      "Epoch 45/100\n",
      "12/12 [==============================] - 0s 3ms/step - loss: 13.8294 - mae: 2.7071 - val_loss: 83.5797 - val_mae: 5.5885\n",
      "Epoch 46/100\n",
      "12/12 [==============================] - 0s 3ms/step - loss: 13.7279 - mae: 2.6897 - val_loss: 81.4584 - val_mae: 5.5139\n",
      "Epoch 47/100\n",
      "12/12 [==============================] - 0s 3ms/step - loss: 13.6327 - mae: 2.6876 - val_loss: 81.5313 - val_mae: 5.5337\n",
      "Epoch 48/100\n",
      "12/12 [==============================] - 0s 3ms/step - loss: 13.4871 - mae: 2.6831 - val_loss: 81.8829 - val_mae: 5.5197\n",
      "Epoch 49/100\n",
      "12/12 [==============================] - 0s 3ms/step - loss: 13.3905 - mae: 2.6598 - val_loss: 81.6146 - val_mae: 5.5109\n",
      "Epoch 50/100\n",
      "12/12 [==============================] - 0s 3ms/step - loss: 13.3846 - mae: 2.6507 - val_loss: 82.3006 - val_mae: 5.5114\n",
      "Epoch 51/100\n",
      "12/12 [==============================] - 0s 3ms/step - loss: 13.3731 - mae: 2.6582 - val_loss: 79.2186 - val_mae: 5.4195\n",
      "Epoch 52/100\n",
      "12/12 [==============================] - 0s 3ms/step - loss: 13.0755 - mae: 2.6232 - val_loss: 82.1192 - val_mae: 5.4674\n",
      "Epoch 53/100\n",
      "12/12 [==============================] - 0s 3ms/step - loss: 13.1333 - mae: 2.6301 - val_loss: 82.2511 - val_mae: 5.4621\n",
      "Epoch 54/100\n",
      "12/12 [==============================] - 0s 3ms/step - loss: 12.8883 - mae: 2.6066 - val_loss: 80.3709 - val_mae: 5.3996\n",
      "Epoch 55/100\n",
      "12/12 [==============================] - 0s 3ms/step - loss: 12.8645 - mae: 2.5896 - val_loss: 80.9426 - val_mae: 5.3828\n",
      "Epoch 56/100\n",
      "12/12 [==============================] - 0s 3ms/step - loss: 12.9274 - mae: 2.5858 - val_loss: 80.2519 - val_mae: 5.3328\n",
      "Epoch 57/100\n",
      "12/12 [==============================] - 0s 3ms/step - loss: 12.7558 - mae: 2.5847 - val_loss: 82.8984 - val_mae: 5.3706\n",
      "Epoch 58/100\n",
      "12/12 [==============================] - 0s 3ms/step - loss: 12.7283 - mae: 2.5830 - val_loss: 80.4384 - val_mae: 5.3213\n",
      "Epoch 59/100\n",
      "12/12 [==============================] - 0s 3ms/step - loss: 12.5721 - mae: 2.5648 - val_loss: 81.8696 - val_mae: 5.3709\n",
      "Epoch 60/100\n",
      "12/12 [==============================] - 0s 3ms/step - loss: 12.4515 - mae: 2.5413 - val_loss: 80.1730 - val_mae: 5.3064\n",
      "Epoch 61/100\n",
      "12/12 [==============================] - 0s 3ms/step - loss: 12.3504 - mae: 2.5372 - val_loss: 82.3537 - val_mae: 5.3312\n"
     ]
    },
    {
     "name": "stdout",
     "output_type": "stream",
     "text": [
      "Epoch 62/100\n",
      "12/12 [==============================] - 0s 3ms/step - loss: 12.2713 - mae: 2.5263 - val_loss: 81.8209 - val_mae: 5.3155\n",
      "Epoch 63/100\n",
      "12/12 [==============================] - 0s 3ms/step - loss: 12.1914 - mae: 2.5186 - val_loss: 81.0043 - val_mae: 5.2819\n",
      "Epoch 64/100\n",
      "12/12 [==============================] - 0s 3ms/step - loss: 12.0838 - mae: 2.5141 - val_loss: 82.2268 - val_mae: 5.2991\n",
      "Epoch 65/100\n",
      "12/12 [==============================] - 0s 3ms/step - loss: 12.0705 - mae: 2.5192 - val_loss: 80.9062 - val_mae: 5.2588\n",
      "Epoch 66/100\n",
      "12/12 [==============================] - 0s 3ms/step - loss: 12.1463 - mae: 2.4995 - val_loss: 81.0292 - val_mae: 5.2457\n",
      "Epoch 67/100\n",
      "12/12 [==============================] - 0s 3ms/step - loss: 11.9510 - mae: 2.4905 - val_loss: 81.9456 - val_mae: 5.2709\n",
      "Epoch 68/100\n",
      "12/12 [==============================] - 0s 3ms/step - loss: 11.9244 - mae: 2.5124 - val_loss: 80.4283 - val_mae: 5.2259\n",
      "Epoch 69/100\n",
      "12/12 [==============================] - 0s 3ms/step - loss: 11.8111 - mae: 2.4702 - val_loss: 80.2744 - val_mae: 5.2222\n",
      "Epoch 70/100\n",
      "12/12 [==============================] - 0s 3ms/step - loss: 11.8484 - mae: 2.4784 - val_loss: 82.1776 - val_mae: 5.2416\n",
      "Epoch 71/100\n",
      "12/12 [==============================] - 0s 3ms/step - loss: 11.6163 - mae: 2.4718 - val_loss: 79.9181 - val_mae: 5.1496\n",
      "Epoch 72/100\n",
      "12/12 [==============================] - 0s 3ms/step - loss: 11.6516 - mae: 2.4528 - val_loss: 81.3688 - val_mae: 5.1745\n",
      "Epoch 73/100\n",
      "12/12 [==============================] - 0s 3ms/step - loss: 11.4880 - mae: 2.4364 - val_loss: 81.5457 - val_mae: 5.1724\n",
      "Epoch 74/100\n",
      "12/12 [==============================] - 0s 3ms/step - loss: 11.6022 - mae: 2.4720 - val_loss: 82.5531 - val_mae: 5.1809\n",
      "Epoch 75/100\n",
      "12/12 [==============================] - 0s 3ms/step - loss: 11.3654 - mae: 2.4368 - val_loss: 81.2617 - val_mae: 5.1176\n",
      "Epoch 76/100\n",
      "12/12 [==============================] - 0s 3ms/step - loss: 11.3965 - mae: 2.4344 - val_loss: 82.1688 - val_mae: 5.1470\n",
      "Epoch 77/100\n",
      "12/12 [==============================] - 0s 3ms/step - loss: 11.4002 - mae: 2.4252 - val_loss: 81.4868 - val_mae: 5.1287\n",
      "Epoch 78/100\n",
      "12/12 [==============================] - 0s 3ms/step - loss: 11.2641 - mae: 2.4045 - val_loss: 80.9666 - val_mae: 5.1395\n",
      "Epoch 79/100\n",
      "12/12 [==============================] - 0s 3ms/step - loss: 11.1954 - mae: 2.3919 - val_loss: 81.4386 - val_mae: 5.0960\n",
      "Epoch 80/100\n",
      "12/12 [==============================] - 0s 3ms/step - loss: 11.2026 - mae: 2.4224 - val_loss: 80.0435 - val_mae: 5.1421\n",
      "Epoch 81/100\n",
      "12/12 [==============================] - 0s 3ms/step - loss: 11.2060 - mae: 2.4191 - val_loss: 81.8591 - val_mae: 5.1589\n",
      "Epoch 82/100\n",
      "12/12 [==============================] - 0s 3ms/step - loss: 11.0078 - mae: 2.3819 - val_loss: 81.2953 - val_mae: 5.0771\n",
      "Epoch 83/100\n",
      "12/12 [==============================] - 0s 3ms/step - loss: 11.0476 - mae: 2.3804 - val_loss: 81.5968 - val_mae: 5.0807\n",
      "Epoch 84/100\n",
      "12/12 [==============================] - 0s 3ms/step - loss: 11.0166 - mae: 2.3936 - val_loss: 83.5097 - val_mae: 5.1785\n",
      "Epoch 85/100\n",
      "12/12 [==============================] - 0s 3ms/step - loss: 10.9730 - mae: 2.3777 - val_loss: 81.7998 - val_mae: 5.1038\n",
      "Epoch 86/100\n",
      "12/12 [==============================] - 0s 3ms/step - loss: 10.8896 - mae: 2.3799 - val_loss: 82.7827 - val_mae: 5.1333\n",
      "Epoch 87/100\n",
      "12/12 [==============================] - 0s 3ms/step - loss: 10.8807 - mae: 2.3697 - val_loss: 83.3495 - val_mae: 5.1081\n",
      "Epoch 88/100\n",
      "12/12 [==============================] - 0s 3ms/step - loss: 10.8414 - mae: 2.3782 - val_loss: 84.2799 - val_mae: 5.2340\n",
      "Epoch 89/100\n",
      "12/12 [==============================] - 0s 3ms/step - loss: 10.8551 - mae: 2.3657 - val_loss: 82.8966 - val_mae: 5.1426\n",
      "Epoch 90/100\n",
      "12/12 [==============================] - 0s 3ms/step - loss: 10.7487 - mae: 2.3737 - val_loss: 82.9162 - val_mae: 5.1396\n",
      "Epoch 91/100\n",
      "12/12 [==============================] - 0s 3ms/step - loss: 10.7692 - mae: 2.3567 - val_loss: 81.7738 - val_mae: 5.0534\n",
      "Epoch 92/100\n",
      "12/12 [==============================] - 0s 3ms/step - loss: 10.8826 - mae: 2.3858 - val_loss: 83.4745 - val_mae: 5.1617\n",
      "Epoch 93/100\n",
      "12/12 [==============================] - 0s 3ms/step - loss: 10.7417 - mae: 2.3593 - val_loss: 80.3109 - val_mae: 5.0397\n",
      "Epoch 94/100\n",
      "12/12 [==============================] - 0s 3ms/step - loss: 10.6165 - mae: 2.3462 - val_loss: 83.9402 - val_mae: 5.1520\n",
      "Epoch 95/100\n",
      "12/12 [==============================] - 0s 3ms/step - loss: 10.5802 - mae: 2.3409 - val_loss: 83.6694 - val_mae: 5.1339\n",
      "Epoch 96/100\n",
      "12/12 [==============================] - 0s 3ms/step - loss: 10.6581 - mae: 2.3396 - val_loss: 82.1335 - val_mae: 5.0487\n",
      "Epoch 97/100\n",
      "12/12 [==============================] - 0s 3ms/step - loss: 10.6420 - mae: 2.3562 - val_loss: 83.7102 - val_mae: 5.1258\n",
      "Epoch 98/100\n",
      "12/12 [==============================] - 0s 3ms/step - loss: 10.6508 - mae: 2.3370 - val_loss: 81.2809 - val_mae: 5.0286\n",
      "Epoch 99/100\n",
      "12/12 [==============================] - 0s 3ms/step - loss: 10.5333 - mae: 2.3380 - val_loss: 83.6725 - val_mae: 5.1323\n",
      "Epoch 100/100\n",
      "12/12 [==============================] - 0s 3ms/step - loss: 10.3605 - mae: 2.3148 - val_loss: 83.1757 - val_mae: 5.0693\n"
     ]
    },
    {
     "data": {
      "text/plain": [
       "<keras.callbacks.History at 0x7fbddc67a490>"
      ]
     },
     "execution_count": 38,
     "metadata": {},
     "output_type": "execute_result"
    }
   ],
   "source": [
    "model.fit(x_train,y_train,epochs=100,validation_split=0.05)"
   ]
  },
  {
   "cell_type": "code",
   "execution_count": 39,
   "id": "e2afb08a",
   "metadata": {},
   "outputs": [
    {
     "name": "stdout",
     "output_type": "stream",
     "text": [
      "4/4 [==============================] - 0s 4ms/step - loss: 22.2640 - mae: 3.1030\n"
     ]
    }
   ],
   "source": [
    "output = model.evaluate(x_test,y_test)"
   ]
  },
  {
   "cell_type": "code",
   "execution_count": 44,
   "id": "b7bf34bd",
   "metadata": {},
   "outputs": [
    {
     "name": "stdout",
     "output_type": "stream",
     "text": [
      "Mean Squared Error: 22.26400375366211\n",
      "Mean Absolute Error: 3.1030352115631104\n"
     ]
    }
   ],
   "source": [
    "print(f\"Mean Squared Error: {output[0]}\"\n",
    "      ,f\"Mean Absolute Error: {output[1]}\",sep=\"\\n\")"
   ]
  },
  {
   "cell_type": "code",
   "execution_count": 45,
   "id": "85333e40",
   "metadata": {},
   "outputs": [
    {
     "name": "stdout",
     "output_type": "stream",
     "text": [
      "4/4 [==============================] - 0s 4ms/step\n"
     ]
    }
   ],
   "source": [
    "y_pred = model.predict(x=x_test)"
   ]
  },
  {
   "cell_type": "code",
   "execution_count": 46,
   "id": "4be4c127",
   "metadata": {},
   "outputs": [
    {
     "name": "stdout",
     "output_type": "stream",
     "text": [
      "(array([24.506329], dtype=float32), 28.4) (array([30.56254], dtype=float32), 31.1) (array([25.646534], dtype=float32), 23.5) (array([27.445961], dtype=float32), 26.6) (array([19.707462], dtype=float32), 19.6) (array([16.464933], dtype=float32), 14.3) (array([42.08562], dtype=float32), 50.0) (array([14.898803], dtype=float32), 14.3) (array([20.1403], dtype=float32), 20.7) (array([43.237473], dtype=float32), 37.6) (array([17.841496], dtype=float32), 20.4) (array([26.564915], dtype=float32), 27.5) (array([22.473684], dtype=float32), 36.2) (array([32.409435], dtype=float32), 32.0) (array([31.079502], dtype=float32), 33.1) (array([51.951847], dtype=float32), 48.8) (array([25.474497], dtype=float32), 24.6) (array([19.781612], dtype=float32), 26.4) (array([21.237524], dtype=float32), 23.2) (array([19.808071], dtype=float32), 17.0) (array([33.196445], dtype=float32), 41.3) (array([15.7997875], dtype=float32), 14.9) (array([22.308857], dtype=float32), 18.5) (array([24.506542], dtype=float32), 25.0) (array([36.95174], dtype=float32), 36.4) (array([21.02158], dtype=float32), 19.5) (array([19.072449], dtype=float32), 27.1) (array([16.65482], dtype=float32), 14.9) (array([42.864365], dtype=float32), 46.0) (array([11.255093], dtype=float32), 17.9) (array([34.67793], dtype=float32), 30.3) (array([32.396557], dtype=float32), 31.6) (array([26.159986], dtype=float32), 23.1) (array([23.886639], dtype=float32), 24.7) (array([15.139406], dtype=float32), 16.7) (array([19.983408], dtype=float32), 18.3) (array([8.552556], dtype=float32), 8.4) (array([32.28726], dtype=float32), 37.3) (array([24.598032], dtype=float32), 22.1) (array([24.136978], dtype=float32), 22.0) (array([39.275646], dtype=float32), 46.7) (array([25.97865], dtype=float32), 30.1) (array([13.960388], dtype=float32), 12.1) (array([29.030474], dtype=float32), 29.1) (array([17.66833], dtype=float32), 16.6) (array([27.10108], dtype=float32), 23.9) (array([17.861822], dtype=float32), 19.9) (array([18.575834], dtype=float32), 21.4) (array([44.4922], dtype=float32), 45.4) (array([16.563892], dtype=float32), 15.6) (array([20.46928], dtype=float32), 22.7) (array([14.620689], dtype=float32), 12.5) (array([20.612724], dtype=float32), 24.3) (array([39.50388], dtype=float32), 43.8) (array([24.186283], dtype=float32), 22.0) (array([34.64388], dtype=float32), 33.8) (array([19.930775], dtype=float32), 19.3) (array([18.89568], dtype=float32), 22.6) (array([21.176815], dtype=float32), 16.1) (array([21.034569], dtype=float32), 15.0) (array([18.339993], dtype=float32), 19.6) (array([21.137554], dtype=float32), 21.2) (array([51.624172], dtype=float32), 50.0) (array([56.14203], dtype=float32), 50.0) (array([27.36555], dtype=float32), 29.4) (array([15.268709], dtype=float32), 17.8) (array([24.735828], dtype=float32), 22.8) (array([12.591748], dtype=float32), 8.8) (array([27.126993], dtype=float32), 32.5) (array([40.339428], dtype=float32), 42.8) (array([16.689852], dtype=float32), 12.6) (array([27.98465], dtype=float32), 28.6) (array([17.789898], dtype=float32), 19.1) (array([21.564999], dtype=float32), 50.0) (array([21.122467], dtype=float32), 27.5) (array([12.93322], dtype=float32), 23.7) (array([48.340298], dtype=float32), 50.0) (array([10.2400875], dtype=float32), 7.2) (array([20.198032], dtype=float32), 18.7) (array([32.495087], dtype=float32), 37.0) (array([20.165474], dtype=float32), 22.9) (array([24.815548], dtype=float32), 22.9) (array([20.013338], dtype=float32), 17.1) (array([24.288055], dtype=float32), 22.0) (array([31.427582], dtype=float32), 23.6) (array([25.81147], dtype=float32), 23.9) (array([25.682194], dtype=float32), 27.1) (array([34.150513], dtype=float32), 29.0) (array([23.863184], dtype=float32), 22.2) (array([11.1325245], dtype=float32), 7.0) (array([23.009584], dtype=float32), 20.7) (array([21.158339], dtype=float32), 18.5) (array([23.660124], dtype=float32), 21.6) (array([24.155087], dtype=float32), 23.0) (array([18.824171], dtype=float32), 16.0) (array([19.678234], dtype=float32), 15.0) (array([25.252113], dtype=float32), 23.9) (array([19.542976], dtype=float32), 24.4) (array([21.263361], dtype=float32), 22.6) (array([18.398333], dtype=float32), 19.8) (array([21.704134], dtype=float32), 22.2) (array([19.568924], dtype=float32), 18.6) (array([19.732323], dtype=float32), 19.7) (array([23.8418], dtype=float32), 23.1) (array([13.837982], dtype=float32), 13.5) (array([21.036032], dtype=float32), 21.2) (array([19.110723], dtype=float32), 23.1) (array([15.809771], dtype=float32), 13.6) (array([28.556469], dtype=float32), 22.8) (array([23.521175], dtype=float32), 18.2) (array([11.745223], dtype=float32), 13.1) (array([17.627365], dtype=float32), 23.2) (array([24.611477], dtype=float32), 22.8) (array([24.487736], dtype=float32), 25.1) (array([21.870634], dtype=float32), 18.9) (array([13.559553], dtype=float32), 10.9) (array([14.871121], dtype=float32), 19.3) (array([20.880054], dtype=float32), 17.4) (array([18.778835], dtype=float32), 15.6) (array([20.01767], dtype=float32), 20.6) (array([30.024704], dtype=float32), 50.0) (array([35.32085], dtype=float32), 32.7) (array([21.411596], dtype=float32), 21.8) (array([16.723742], dtype=float32), 13.4) (array([17.538132], dtype=float32), 16.6) (array([23.341366], dtype=float32), 23.6) (array([13.014972], dtype=float32), 11.0)\n"
     ]
    }
   ],
   "source": [
    "print(*zip(y_pred,y_test))"
   ]
  },
  {
   "cell_type": "code",
   "execution_count": null,
   "id": "fbaee296",
   "metadata": {},
   "outputs": [],
   "source": []
  }
 ],
 "metadata": {
  "kernelspec": {
   "display_name": "Python 3 (ipykernel)",
   "language": "python",
   "name": "python3"
  },
  "language_info": {
   "codemirror_mode": {
    "name": "ipython",
    "version": 3
   },
   "file_extension": ".py",
   "mimetype": "text/x-python",
   "name": "python",
   "nbconvert_exporter": "python",
   "pygments_lexer": "ipython3",
   "version": "3.11.7"
  }
 },
 "nbformat": 4,
 "nbformat_minor": 5
}
